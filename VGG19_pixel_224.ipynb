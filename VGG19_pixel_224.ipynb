{
 "cells": [
  {
   "cell_type": "markdown",
   "metadata": {},
   "source": [
    "匯入套件"
   ]
  },
  {
   "cell_type": "code",
   "execution_count": 1,
   "metadata": {
    "id": "zEzld3u4nWFQ"
   },
   "outputs": [],
   "source": [
    "import tensorflow as tf\n",
    "import   keras \n",
    "from   keras.datasets   import   cifar10 \n",
    "from tensorflow.keras.utils import to_categorical\n",
    "from tensorflow.keras.applications   import   VGG19 \n",
    "from keras.layers import Input"
   ]
  },
  {
   "cell_type": "markdown",
   "metadata": {},
   "source": [
    "引用VGG19模型到model的變數，使用已訓練好的權重\n"
   ]
  },
  {
   "cell_type": "code",
   "execution_count": 2,
   "metadata": {
    "colab": {
     "base_uri": "https://localhost:8080/"
    },
    "executionInfo": {
     "elapsed": 32241,
     "status": "ok",
     "timestamp": 1668776975642,
     "user": {
      "displayName": "幻夜",
      "userId": "09107855530708526795"
     },
     "user_tz": -480
    },
    "id": "rBTMTOPwnIQL",
    "outputId": "8850f028-0bf2-456c-e330-a4cac1a3d541"
   },
   "outputs": [
    {
     "name": "stdout",
     "output_type": "stream",
     "text": [
      "Model: \"vgg19\"\n",
      "_________________________________________________________________\n",
      " Layer (type)                Output Shape              Param #   \n",
      "=================================================================\n",
      " input_1 (InputLayer)        [(None, 224, 224, 3)]     0         \n",
      "                                                                 \n",
      " block1_conv1 (Conv2D)       (None, 224, 224, 64)      1792      \n",
      "                                                                 \n",
      " block1_conv2 (Conv2D)       (None, 224, 224, 64)      36928     \n",
      "                                                                 \n",
      " block1_pool (MaxPooling2D)  (None, 112, 112, 64)      0         \n",
      "                                                                 \n",
      " block2_conv1 (Conv2D)       (None, 112, 112, 128)     73856     \n",
      "                                                                 \n",
      " block2_conv2 (Conv2D)       (None, 112, 112, 128)     147584    \n",
      "                                                                 \n",
      " block2_pool (MaxPooling2D)  (None, 56, 56, 128)       0         \n",
      "                                                                 \n",
      " block3_conv1 (Conv2D)       (None, 56, 56, 256)       295168    \n",
      "                                                                 \n",
      " block3_conv2 (Conv2D)       (None, 56, 56, 256)       590080    \n",
      "                                                                 \n",
      " block3_conv3 (Conv2D)       (None, 56, 56, 256)       590080    \n",
      "                                                                 \n",
      " block3_conv4 (Conv2D)       (None, 56, 56, 256)       590080    \n",
      "                                                                 \n",
      " block3_pool (MaxPooling2D)  (None, 28, 28, 256)       0         \n",
      "                                                                 \n",
      " block4_conv1 (Conv2D)       (None, 28, 28, 512)       1180160   \n",
      "                                                                 \n",
      " block4_conv2 (Conv2D)       (None, 28, 28, 512)       2359808   \n",
      "                                                                 \n",
      " block4_conv3 (Conv2D)       (None, 28, 28, 512)       2359808   \n",
      "                                                                 \n",
      " block4_conv4 (Conv2D)       (None, 28, 28, 512)       2359808   \n",
      "                                                                 \n",
      " block4_pool (MaxPooling2D)  (None, 14, 14, 512)       0         \n",
      "                                                                 \n",
      " block5_conv1 (Conv2D)       (None, 14, 14, 512)       2359808   \n",
      "                                                                 \n",
      " block5_conv2 (Conv2D)       (None, 14, 14, 512)       2359808   \n",
      "                                                                 \n",
      " block5_conv3 (Conv2D)       (None, 14, 14, 512)       2359808   \n",
      "                                                                 \n",
      " block5_conv4 (Conv2D)       (None, 14, 14, 512)       2359808   \n",
      "                                                                 \n",
      " block5_pool (MaxPooling2D)  (None, 7, 7, 512)         0         \n",
      "                                                                 \n",
      " flatten (Flatten)           (None, 25088)             0         \n",
      "                                                                 \n",
      " fc1 (Dense)                 (None, 4096)              102764544 \n",
      "                                                                 \n",
      " fc2 (Dense)                 (None, 4096)              16781312  \n",
      "                                                                 \n",
      " predictions (Dense)         (None, 1000)              4097000   \n",
      "                                                                 \n",
      "=================================================================\n",
      "Total params: 143,667,240\n",
      "Trainable params: 143,667,240\n",
      "Non-trainable params: 0\n",
      "_________________________________________________________________\n"
     ]
    }
   ],
   "source": [
    "vgg19_model = VGG19(include_top = True, weights='imagenet')\n",
    "vgg19_model.summary()"
   ]
  },
  {
   "cell_type": "markdown",
   "metadata": {},
   "source": [
    "複製VGG19層數,凍結VGG19的神經層，因為VGG19神經層已被ImageNet資料集訓練過，保留特徵 增添新的密集層，作為 cifar10 的10類分類器"
   ]
  },
  {
   "cell_type": "code",
   "execution_count": 4,
   "metadata": {
    "colab": {
     "base_uri": "https://localhost:8080/"
    },
    "executionInfo": {
     "elapsed": 669,
     "status": "ok",
     "timestamp": 1668776976299,
     "user": {
      "displayName": "幻夜",
      "userId": "09107855530708526795"
     },
     "user_tz": -480
    },
    "id": "QVRSOP4ujghT",
    "outputId": "7b5705ce-11db-4412-e3fc-f3ecebde7f57"
   },
   "outputs": [
    {
     "name": "stdout",
     "output_type": "stream",
     "text": [
      "Model: \"sequential\"\n",
      "_________________________________________________________________\n",
      " Layer (type)                Output Shape              Param #   \n",
      "=================================================================\n",
      " block1_conv1 (Conv2D)       (None, 224, 224, 64)      1792      \n",
      "                                                                 \n",
      " block1_conv2 (Conv2D)       (None, 224, 224, 64)      36928     \n",
      "                                                                 \n",
      " block1_pool (MaxPooling2D)  (None, 112, 112, 64)      0         \n",
      "                                                                 \n",
      " block2_conv1 (Conv2D)       (None, 112, 112, 128)     73856     \n",
      "                                                                 \n",
      " block2_conv2 (Conv2D)       (None, 112, 112, 128)     147584    \n",
      "                                                                 \n",
      " block2_pool (MaxPooling2D)  (None, 56, 56, 128)       0         \n",
      "                                                                 \n",
      " block3_conv1 (Conv2D)       (None, 56, 56, 256)       295168    \n",
      "                                                                 \n",
      " block3_conv2 (Conv2D)       (None, 56, 56, 256)       590080    \n",
      "                                                                 \n",
      " block3_conv3 (Conv2D)       (None, 56, 56, 256)       590080    \n",
      "                                                                 \n",
      " block3_conv4 (Conv2D)       (None, 56, 56, 256)       590080    \n",
      "                                                                 \n",
      " block3_pool (MaxPooling2D)  (None, 28, 28, 256)       0         \n",
      "                                                                 \n",
      " block4_conv1 (Conv2D)       (None, 28, 28, 512)       1180160   \n",
      "                                                                 \n",
      " block4_conv2 (Conv2D)       (None, 28, 28, 512)       2359808   \n",
      "                                                                 \n",
      " block4_conv3 (Conv2D)       (None, 28, 28, 512)       2359808   \n",
      "                                                                 \n",
      " block4_conv4 (Conv2D)       (None, 28, 28, 512)       2359808   \n",
      "                                                                 \n",
      " block4_pool (MaxPooling2D)  (None, 14, 14, 512)       0         \n",
      "                                                                 \n",
      " block5_conv1 (Conv2D)       (None, 14, 14, 512)       2359808   \n",
      "                                                                 \n",
      " block5_conv2 (Conv2D)       (None, 14, 14, 512)       2359808   \n",
      "                                                                 \n",
      " block5_conv3 (Conv2D)       (None, 14, 14, 512)       2359808   \n",
      "                                                                 \n",
      " block5_conv4 (Conv2D)       (None, 14, 14, 512)       2359808   \n",
      "                                                                 \n",
      " block5_pool (MaxPooling2D)  (None, 7, 7, 512)         0         \n",
      "                                                                 \n",
      " flatten (Flatten)           (None, 25088)             0         \n",
      "                                                                 \n",
      " fc1 (Dense)                 (None, 4096)              102764544 \n",
      "                                                                 \n",
      " fc2 (Dense)                 (None, 4096)              16781312  \n",
      "                                                                 \n",
      " dropout (Dropout)           (None, 4096)              0         \n",
      "                                                                 \n",
      " dense (Dense)               (None, 10)                40970     \n",
      "                                                                 \n",
      "=================================================================\n",
      "Total params: 139,611,210\n",
      "Trainable params: 40,970\n",
      "Non-trainable params: 139,570,240\n",
      "_________________________________________________________________\n"
     ]
    }
   ],
   "source": [
    "from keras.models import Sequential\n",
    "from keras.layers import Dense, Flatten, Dropout\n",
    "\n",
    "\n",
    "model = Sequential()\n",
    "\n",
    "\n",
    "for layer in vgg19_model.layers[:-1]:\n",
    "  model.add(layer)\n",
    "  \n",
    "\n",
    "for layer in model.layers:\n",
    "  layer.trainable = False\n",
    "  \n",
    "\n",
    "model.add(Dropout(0.5))\n",
    "model.add(Dense(10, activation='softmax'))\n",
    "model.summary()"
   ]
  },
  {
   "cell_type": "markdown",
   "metadata": {},
   "source": [
    "載入cifar10資料庫"
   ]
  },
  {
   "cell_type": "code",
   "execution_count": 5,
   "metadata": {
    "colab": {
     "base_uri": "https://localhost:8080/"
    },
    "executionInfo": {
     "elapsed": 16364,
     "status": "ok",
     "timestamp": 1668776992656,
     "user": {
      "displayName": "幻夜",
      "userId": "09107855530708526795"
     },
     "user_tz": -480
    },
    "id": "iqoSRpS4jlW6",
    "outputId": "bb7aeea6-4037-4aae-95ec-5efd7fbc4348"
   },
   "outputs": [],
   "source": [
    "(x_train, y_train) , (x_val, y_val) = cifar10.load_data()"
   ]
  },
  {
   "cell_type": "markdown",
   "metadata": {},
   "source": [
    "引入資料預處理的套件"
   ]
  },
  {
   "cell_type": "code",
   "execution_count": 6,
   "metadata": {
    "id": "8456v7zEjohD"
   },
   "outputs": [],
   "source": [
    "\n",
    "\n",
    "import numpy as np\n",
    "import cv2\n",
    "\n"
   ]
  },
  {
   "cell_type": "markdown",
   "metadata": {},
   "source": [
    "one-hot 標籤"
   ]
  },
  {
   "cell_type": "code",
   "execution_count": 7,
   "metadata": {
    "id": "ViOtw6UZjqfj"
   },
   "outputs": [],
   "source": [
    "\n",
    "\n",
    "import matplotlib.pyplot as plt\n",
    "\n",
    "NUM_CLASSES = 10\n",
    "\n",
    "\n",
    "y_train = tf.keras.utils.to_categorical(y_train, NUM_CLASSES)\n",
    "y_val = tf.keras.utils.to_categorical(y_val, NUM_CLASSES)\n",
    "\n"
   ]
  },
  {
   "cell_type": "code",
   "execution_count": 8,
   "metadata": {
    "id": "6lFsGDm1mdeC"
   },
   "outputs": [],
   "source": [
    "#新增getBatch函數(生成數量,取得訓練集、驗證集)\n",
    "def getBatch(batch_size, train_or_val='train'):\n",
    "#新建放大224x224的list\n",
    "  x_batch = []\n",
    "  y_batch = []\n",
    "  if train_or_val == 'train':\n",
    "    #隨機新增訓練集的數量\n",
    "    idx = np.random.randint(0, len(x_train), (batch_size))\n",
    "    #放大訓練集裡的圖片\n",
    "    for i in idx:\n",
    "      img = cv2.resize(x_train[i], (224, 224), interpolation=cv2.INTER_CUBIC)\n",
    "      x_batch.append(img)\n",
    "      y_batch.append(y_train[i])\n",
    "  elif train_or_val == 'val':\n",
    "     #隨機新增驗證集的數量\n",
    "    idx = np.random.randint(0, len(x_val), (batch_size))\n",
    "    #放大驗證集裡的圖片\n",
    "    for i in idx:\n",
    "      img = cv2.resize(x_val[i], (224, 224), interpolation=cv2.INTER_CUBIC)\n",
    "      x_batch.append(img)\n",
    "      y_batch.append(y_val[i]) \n",
    "  else:\n",
    "    print(\"error, please specify train or val\")\n",
    "    #放入list\n",
    "  x_batch = np.array(x_batch)\n",
    "  y_batch = np.array(y_batch)\n",
    "  return x_batch, y_batch\n",
    "    \n",
    "\n"
   ]
  },
  {
   "cell_type": "code",
   "execution_count": 9,
   "metadata": {
    "id": "aasedx_jmgy6"
   },
   "outputs": [],
   "source": [
    "#compile函數定義損失函數(loss)、優化函數(optimizer)及成效衡量指標(mertrics)。\n",
    "model.compile(optimizer=\"adam\", loss=\"categorical_crossentropy\", metrics=[\"categorical_accuracy\"])"
   ]
  },
  {
   "cell_type": "code",
   "execution_count": 10,
   "metadata": {
    "colab": {
     "base_uri": "https://localhost:8080/"
    },
    "executionInfo": {
     "elapsed": 1764692,
     "status": "ok",
     "timestamp": 1668778758495,
     "user": {
      "displayName": "幻夜",
      "userId": "09107855530708526795"
     },
     "user_tz": -480
    },
    "id": "djWA_Z1Eqi_E",
    "outputId": "8fc093c5-e13d-42be-b49d-17478ba4d2ac"
   },
   "outputs": [
    {
     "name": "stdout",
     "output_type": "stream",
     "text": [
      "Epoch: 0\n",
      "Training Loss = 1.992010930776596\tTraining Acc = 0.4544000019133091\n",
      "16/16 [==============================] - 11s 485ms/step - loss: 0.9955 - categorical_accuracy: 0.6760\n",
      "Validation loss: 0.9955011606216431\tValidation Acc: 0.6759999990463257\n",
      "\n",
      "Epoch: 1\n",
      "Training Loss = 1.3663411331176758\tTraining Acc = 0.621200007200241\n",
      "16/16 [==============================] - 6s 354ms/step - loss: 0.8781 - categorical_accuracy: 0.7260\n",
      "Validation loss: 0.8780951499938965\tValidation Acc: 0.7260000109672546\n",
      "\n",
      "Epoch: 2\n",
      "Training Loss = 1.0757788074016572\tTraining Acc = 0.685600004196167\n",
      "16/16 [==============================] - 6s 360ms/step - loss: 0.8264 - categorical_accuracy: 0.7180\n",
      "Validation loss: 0.8263738751411438\tValidation Acc: 0.7179999947547913\n",
      "\n",
      "Epoch: 3\n",
      "Training Loss = 1.188940931558609\tTraining Acc = 0.6676000064611435\n",
      "16/16 [==============================] - 6s 362ms/step - loss: 0.6953 - categorical_accuracy: 0.7720\n",
      "Validation loss: 0.6952852606773376\tValidation Acc: 0.7720000147819519\n",
      "\n",
      "Epoch: 4\n",
      "Training Loss = 1.0734372329711914\tTraining Acc = 0.6860000014305114\n",
      "16/16 [==============================] - 6s 368ms/step - loss: 0.8599 - categorical_accuracy: 0.7360\n",
      "Validation loss: 0.8599481582641602\tValidation Acc: 0.7360000014305115\n",
      "\n",
      "Epoch: 5\n",
      "Training Loss = 0.9040701192617416\tTraining Acc = 0.7232000052928924\n",
      "16/16 [==============================] - 6s 375ms/step - loss: 1.0078 - categorical_accuracy: 0.6980\n",
      "Validation loss: 1.0078402757644653\tValidation Acc: 0.6980000138282776\n",
      "\n"
     ]
    },
    {
     "ename": "KeyboardInterrupt",
     "evalue": "",
     "output_type": "error",
     "traceback": [
      "\u001b[1;31m---------------------------------------------------------------------------\u001b[0m",
      "\u001b[1;31mKeyboardInterrupt\u001b[0m                         Traceback (most recent call last)",
      "\u001b[1;32m~\\AppData\\Local\\Temp/ipykernel_12432/955905455.py\u001b[0m in \u001b[0;36m<module>\u001b[1;34m\u001b[0m\n\u001b[0;32m     14\u001b[0m \u001b[1;33m\u001b[0m\u001b[0m\n\u001b[0;32m     15\u001b[0m   \u001b[1;32mfor\u001b[0m \u001b[0ms\u001b[0m \u001b[1;32min\u001b[0m \u001b[0mrange\u001b[0m\u001b[1;33m(\u001b[0m\u001b[0mSTEPS\u001b[0m\u001b[1;33m)\u001b[0m\u001b[1;33m:\u001b[0m\u001b[1;33m\u001b[0m\u001b[1;33m\u001b[0m\u001b[0m\n\u001b[1;32m---> 16\u001b[1;33m     \u001b[0mx_batch\u001b[0m\u001b[1;33m,\u001b[0m \u001b[0my_batch\u001b[0m \u001b[1;33m=\u001b[0m \u001b[0mgetBatch\u001b[0m\u001b[1;33m(\u001b[0m\u001b[0mBATCH_SIZE\u001b[0m\u001b[1;33m,\u001b[0m \u001b[1;34m\"train\"\u001b[0m\u001b[1;33m)\u001b[0m\u001b[1;33m\u001b[0m\u001b[1;33m\u001b[0m\u001b[0m\n\u001b[0m\u001b[0;32m     17\u001b[0m     \u001b[0mout\u001b[0m \u001b[1;33m=\u001b[0m \u001b[0mmodel\u001b[0m\u001b[1;33m.\u001b[0m\u001b[0mtrain_on_batch\u001b[0m\u001b[1;33m(\u001b[0m\u001b[0mx_batch\u001b[0m\u001b[1;33m,\u001b[0m \u001b[0my_batch\u001b[0m\u001b[1;33m)\u001b[0m\u001b[1;33m\u001b[0m\u001b[1;33m\u001b[0m\u001b[0m\n\u001b[0;32m     18\u001b[0m     \u001b[0mtrain_loss\u001b[0m \u001b[1;33m+=\u001b[0m \u001b[0mout\u001b[0m\u001b[1;33m[\u001b[0m\u001b[1;36m0\u001b[0m\u001b[1;33m]\u001b[0m\u001b[1;33m\u001b[0m\u001b[1;33m\u001b[0m\u001b[0m\n",
      "\u001b[1;32m~\\AppData\\Local\\Temp/ipykernel_12432/1564522769.py\u001b[0m in \u001b[0;36mgetBatch\u001b[1;34m(batch_size, train_or_val)\u001b[0m\n\u001b[0;32m      9\u001b[0m     \u001b[1;31m#放大訓練集裡的圖片\u001b[0m\u001b[1;33m\u001b[0m\u001b[1;33m\u001b[0m\u001b[0m\n\u001b[0;32m     10\u001b[0m     \u001b[1;32mfor\u001b[0m \u001b[0mi\u001b[0m \u001b[1;32min\u001b[0m \u001b[0midx\u001b[0m\u001b[1;33m:\u001b[0m\u001b[1;33m\u001b[0m\u001b[1;33m\u001b[0m\u001b[0m\n\u001b[1;32m---> 11\u001b[1;33m       \u001b[0mimg\u001b[0m \u001b[1;33m=\u001b[0m \u001b[0mcv2\u001b[0m\u001b[1;33m.\u001b[0m\u001b[0mresize\u001b[0m\u001b[1;33m(\u001b[0m\u001b[0mx_train\u001b[0m\u001b[1;33m[\u001b[0m\u001b[0mi\u001b[0m\u001b[1;33m]\u001b[0m\u001b[1;33m,\u001b[0m \u001b[1;33m(\u001b[0m\u001b[1;36m224\u001b[0m\u001b[1;33m,\u001b[0m \u001b[1;36m224\u001b[0m\u001b[1;33m)\u001b[0m\u001b[1;33m,\u001b[0m \u001b[0minterpolation\u001b[0m\u001b[1;33m=\u001b[0m\u001b[0mcv2\u001b[0m\u001b[1;33m.\u001b[0m\u001b[0mINTER_CUBIC\u001b[0m\u001b[1;33m)\u001b[0m\u001b[1;33m\u001b[0m\u001b[1;33m\u001b[0m\u001b[0m\n\u001b[0m\u001b[0;32m     12\u001b[0m       \u001b[0mx_batch\u001b[0m\u001b[1;33m.\u001b[0m\u001b[0mappend\u001b[0m\u001b[1;33m(\u001b[0m\u001b[0mimg\u001b[0m\u001b[1;33m)\u001b[0m\u001b[1;33m\u001b[0m\u001b[1;33m\u001b[0m\u001b[0m\n\u001b[0;32m     13\u001b[0m       \u001b[0my_batch\u001b[0m\u001b[1;33m.\u001b[0m\u001b[0mappend\u001b[0m\u001b[1;33m(\u001b[0m\u001b[0my_train\u001b[0m\u001b[1;33m[\u001b[0m\u001b[0mi\u001b[0m\u001b[1;33m]\u001b[0m\u001b[1;33m)\u001b[0m\u001b[1;33m\u001b[0m\u001b[1;33m\u001b[0m\u001b[0m\n",
      "\u001b[1;31mKeyboardInterrupt\u001b[0m: "
     ]
    }
   ],
   "source": [
    "#ECHO數\n",
    "EPOCHS = 20\n",
    "#取張量數量\n",
    "BATCH_SIZE = 50\n",
    "#取訓練集數量\n",
    "VAL_SIZE = 500\n",
    "#做訓練集的次數\n",
    "STEPS = 50\n",
    "\n",
    "\n",
    "for e in range(EPOCHS):\n",
    "  train_loss = 0\n",
    "  train_acc = 0\n",
    "    \n",
    "  for s in range(STEPS):\n",
    "    x_batch, y_batch = getBatch(BATCH_SIZE, \"train\")\n",
    "    out = model.train_on_batch(x_batch, y_batch)\n",
    "    train_loss += out[0]\n",
    "    train_acc += out[1]\n",
    "  \n",
    "  print(f\"Epoch: {e}\\nTraining Loss = {train_loss / STEPS}\\tTraining Acc = {train_acc / STEPS}\")\n",
    "  \n",
    "  x_v, y_v = getBatch(VAL_SIZE, \"val\")\n",
    "  eval = model.evaluate(x_v, y_v)\n",
    "  print(f\"Validation loss: {eval[0]}\\tValidation Acc: {eval[1]}\\n\")\n",
    "  \n",
    "  \n",
    "\n",
    "\n",
    "\n"
   ]
  },
  {
   "cell_type": "code",
   "execution_count": null,
   "metadata": {
    "colab": {
     "base_uri": "https://localhost:8080/",
     "height": 1000
    },
    "executionInfo": {
     "elapsed": 4354,
     "status": "ok",
     "timestamp": 1668778762835,
     "user": {
      "displayName": "幻夜",
      "userId": "09107855530708526795"
     },
     "user_tz": -480
    },
    "id": "2b8TTfLb5_Jg",
    "outputId": "85a00c00-371a-469e-d839-c4d2047a23b4"
   },
   "outputs": [],
   "source": [
    "#辨識標籤\n",
    "CATEGORIES = \"airplane automobile bird cat deer dog frog horse ship truck\".split(\" \")\n",
    "\n",
    "import matplotlib.pyplot as plt\n",
    "#取10個隨機驗證集\n",
    "x_v, y_v = getBatch(10, \"val\")\n",
    "\n",
    "for i in range(10):\n",
    "\n",
    "  import numpy as np\n",
    "  plt.imshow(x_v[i])\n",
    "  plt.show()\n",
    "  print(\"pred: \" +  CATEGORIES[np.argmax(model.predict(x_v[i:i+1]))])\n",
    "  print(\"acct: \" + CATEGORIES[np.argmax(y_v[i])])\n",
    "\n",
    "\n",
    " \n",
    "\n"
   ]
  },
  {
   "cell_type": "code",
   "execution_count": null,
   "metadata": {
    "id": "Y0NfI75eBvIt"
   },
   "outputs": [],
   "source": []
  },
  {
   "cell_type": "code",
   "execution_count": null,
   "metadata": {
    "id": "-NPy5hh_22mk"
   },
   "outputs": [],
   "source": []
  }
 ],
 "metadata": {
  "accelerator": "GPU",
  "colab": {
   "authorship_tag": "ABX9TyPrkBF3XtOnUljfU39Totbz",
   "provenance": []
  },
  "gpuClass": "standard",
  "kernelspec": {
   "display_name": "Python 3 (ipykernel)",
   "language": "python",
   "name": "python3"
  },
  "language_info": {
   "codemirror_mode": {
    "name": "ipython",
    "version": 3
   },
   "file_extension": ".py",
   "mimetype": "text/x-python",
   "name": "python",
   "nbconvert_exporter": "python",
   "pygments_lexer": "ipython3",
   "version": "3.9.7"
  }
 },
 "nbformat": 4,
 "nbformat_minor": 1
}
